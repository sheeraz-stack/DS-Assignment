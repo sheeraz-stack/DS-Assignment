{
 "cells": [
  {
   "cell_type": "markdown",
   "id": "ecc85027",
   "metadata": {},
   "source": [
    "**Question: 1** \n",
    "- Scenario: A company wants to analyze the sales performance of its products in different\n",
    "regions. They have collected the following data:\n",
    "Region A: [10, 15, 12, 8, 14]\n",
    "Region B: [18, 20, 16, 22, 25]\n",
    "- Calculate the mean sales for each region.\n"
   ]
  },
  {
   "cell_type": "code",
   "execution_count": 1,
   "id": "4fcd329e",
   "metadata": {},
   "outputs": [
    {
     "name": "stdout",
     "output_type": "stream",
     "text": [
      "Mean sales in Region A: 11.8\n",
      "Mean sales in Region B: 20.2\n"
     ]
    }
   ],
   "source": [
    "# Data for each region\n",
    "region_a_sales = [10, 15, 12, 8, 14]\n",
    "region_b_sales = [18, 20, 16, 22, 25]\n",
    "\n",
    "# Calculate the mean sales for each region\n",
    "mean_sales_region_a = sum(region_a_sales) / len(region_a_sales)\n",
    "mean_sales_region_b = sum(region_b_sales) / len(region_b_sales)\n",
    "\n",
    "print(\"Mean sales in Region A:\", mean_sales_region_a)\n",
    "print(\"Mean sales in Region B:\", mean_sales_region_b)"
   ]
  },
  {
   "cell_type": "markdown",
   "id": "a5d6837b",
   "metadata": {},
   "source": [
    "**Question: 2** \n",
    "\n",
    "- Scenario: A survey is conducted to measure customer satisfaction on a scale of 1 to 5. The\n",
    "data collected is as follows:\n",
    "[4, 5, 2, 3, 5, 4, 3, 2, 4, 5]\n",
    "- Calculate the mode of the survey responses."
   ]
  },
  {
   "cell_type": "code",
   "execution_count": 2,
   "id": "2ea5ce72",
   "metadata": {},
   "outputs": [
    {
     "name": "stdout",
     "output_type": "stream",
     "text": [
      "Mode of the survey responses: 4\n"
     ]
    }
   ],
   "source": [
    "import statistics\n",
    "\n",
    "survey_responses = [4, 5, 2, 3, 5, 4, 3, 2, 4, 5]\n",
    "\n",
    "mode_value = statistics.mode(survey_responses)\n",
    "\n",
    "print(\"Mode of the survey responses:\", mode_value)"
   ]
  },
  {
   "cell_type": "markdown",
   "id": "ab3dc2e8",
   "metadata": {},
   "source": [
    "**Question: 3**\n",
    "- Scenario: A company wants to compare the salaries of two departments. The salary data for\n",
    "Department A and Department B are as follows:\n",
    "Department A: [5000, 6000, 5500, 7000]\n",
    "Department B: [4500, 5500, 5800, 6000, 5200]\n",
    "- Calculate the median salary for each department."
   ]
  },
  {
   "cell_type": "code",
   "execution_count": 3,
   "id": "52816940",
   "metadata": {},
   "outputs": [
    {
     "name": "stdout",
     "output_type": "stream",
     "text": [
      "Median salary in Department A: 5750.0\n",
      "Median salary in Department B: 5500\n"
     ]
    }
   ],
   "source": [
    "department_a_salaries = [5000, 6000, 5500, 7000]\n",
    "department_b_salaries = [4500, 5500, 5800, 6000, 5200]\n",
    "\n",
    "# Sort the salaries in each department\n",
    "sorted_department_a = sorted(department_a_salaries)\n",
    "sorted_department_b = sorted(department_b_salaries)\n",
    "\n",
    "# Calculate the median salary for each department\n",
    "def calculate_median(salaries):\n",
    "    n = len(salaries)\n",
    "    if n % 2 == 0:\n",
    "        median = (salaries[n//2 - 1] + salaries[n//2]) / 2\n",
    "    else:\n",
    "        median = salaries[n//2]\n",
    "    return median\n",
    "\n",
    "median_salary_department_a = calculate_median(sorted_department_a)\n",
    "median_salary_department_b = calculate_median(sorted_department_b)\n",
    "\n",
    "print(\"Median salary in Department A:\", median_salary_department_a)\n",
    "print(\"Median salary in Department B:\", median_salary_department_b)"
   ]
  },
  {
   "cell_type": "markdown",
   "id": "7fc5de99",
   "metadata": {},
   "source": [
    "**Question: 4**\n",
    "- Scenario: A data analyst wants to determine the variability in the daily stock prices of a\n",
    "company. The data collected is as follows:\n",
    "[25.5, 24.8, 26.1, 25.3, 24.9]\n",
    "- Calculate the range of the stock prices."
   ]
  },
  {
   "cell_type": "code",
   "execution_count": 4,
   "id": "57464a84",
   "metadata": {},
   "outputs": [
    {
     "name": "stdout",
     "output_type": "stream",
     "text": [
      "Range of the stock prices: 1.3000000000000007\n"
     ]
    }
   ],
   "source": [
    "stock_prices = [25.5, 24.8, 26.1, 25.3, 24.9]\n",
    "\n",
    "price_range = max(stock_prices) - min(stock_prices)\n",
    "\n",
    "print(\"Range of the stock prices:\", price_range)"
   ]
  },
  {
   "cell_type": "markdown",
   "id": "7bf8df6a",
   "metadata": {},
   "source": [
    "**Question: 5**\n",
    "- Scenario: A study is conducted to compare the performance of two different teaching\n",
    "methods. The test scores of the students in each group are as follows:\n",
    "Group A: [85, 90, 92, 88, 91]\n",
    "Group B: [82, 88, 90, 86, 87]\n",
    "- Perform a t-test to determine if there is a significant difference in the mean scores between the\n",
    "two groups."
   ]
  },
  {
   "cell_type": "code",
   "execution_count": 24,
   "id": "fabe84ed",
   "metadata": {},
   "outputs": [
    {
     "name": "stdout",
     "output_type": "stream",
     "text": [
      "T-statistic: 1.4312528946642733\n",
      "P-value: 0.19023970239078333\n",
      "Conclusion:  There is no significant difference in the mean scores between the two groups.\n"
     ]
    }
   ],
   "source": [
    "from scipy import stats\n",
    "\n",
    "group_a_scores = [85, 90, 92, 88, 91]\n",
    "group_b_scores = [82, 88, 90, 86, 87]\n",
    "\n",
    "# Perform t-test\n",
    "t_statistic, p_value = stats.ttest_ind(group_a_scores, group_b_scores)\n",
    "\n",
    "# Results\n",
    "print(\"T-statistic:\", t_statistic)\n",
    "print(\"P-value:\", p_value)\n",
    "\n",
    "# Checking whether there is significance difference or not:\n",
    "if p_value < 0.05:\n",
    "    print(\"Conclusion: \", \"There is a significant difference in the mean scores between the two groups.\")\n",
    "else:\n",
    "    print(\"Conclusion: \",\"There is no significant difference in the mean scores between the two groups.\")"
   ]
  },
  {
   "cell_type": "markdown",
   "id": "b6d368b4",
   "metadata": {},
   "source": [
    "**Question: 6**\n",
    "- Scenario: A company wants to analyze the relationship between advertising expenditure and\n",
    "sales. The data collected is as follows:\n",
    "Advertising Expenditure (in thousands): [10, 15, 12, 8, 14]\n",
    "Sales (in thousands): [25, 30, 28, 20, 26]\n",
    "- Calculate the correlation coefficient between advertising expenditure and sales."
   ]
  },
  {
   "cell_type": "code",
   "execution_count": 6,
   "id": "506d7d73",
   "metadata": {},
   "outputs": [
    {
     "name": "stdout",
     "output_type": "stream",
     "text": [
      "Correlation coefficient: 0.8757511375750132\n"
     ]
    }
   ],
   "source": [
    "import numpy as np\n",
    "\n",
    "advertising_expenditure = [10, 15, 12, 8, 14]\n",
    "sales = [25, 30, 28, 20, 26]\n",
    "\n",
    "correlation_coefficient = np.corrcoef(advertising_expenditure, sales)[0, 1]\n",
    "\n",
    "print(\"Correlation coefficient:\", correlation_coefficient)"
   ]
  },
  {
   "cell_type": "markdown",
   "id": "68dff9fb",
   "metadata": {},
   "source": [
    "**Question: 7**\n",
    "- Scenario: A survey is conducted to measure the heights of a group of people. The data\n",
    "collected is as follows:\n",
    "[160, 170, 165, 155, 175, 180, 170]\n",
    "- Calculate the standard deviation of the heights."
   ]
  },
  {
   "cell_type": "code",
   "execution_count": 7,
   "id": "2a18d386",
   "metadata": {},
   "outputs": [
    {
     "name": "stdout",
     "output_type": "stream",
     "text": [
      "Standard Deviation: 7.953949089757174\n"
     ]
    }
   ],
   "source": [
    "import math\n",
    "\n",
    "heights = [160, 170, 165, 155, 175, 180, 170]\n",
    "\n",
    "# Step 1: Calculate the mean\n",
    "mean = sum(heights) / len(heights)\n",
    "\n",
    "# Step 2: Calculate the squared difference from the mean for each height\n",
    "squared_diff_sum = sum((height - mean) ** 2 for height in heights)\n",
    "\n",
    "# Step 3: Calculate the variance (average of squared differences)\n",
    "variance = squared_diff_sum / len(heights)\n",
    "\n",
    "# Step 4: Calculate the standard deviation (square root of variance)\n",
    "standard_deviation = math.sqrt(variance)\n",
    "\n",
    "# Result\n",
    "print(\"Standard Deviation:\", standard_deviation)"
   ]
  },
  {
   "cell_type": "markdown",
   "id": "639be0a2",
   "metadata": {},
   "source": [
    "**Question: 8**\n",
    "- Scenario: A company wants to analyze the relationship between employee tenure and job\n",
    "satisfaction. The data collected is as follows:\n",
    "Employee Tenure (in years): [2, 3, 5, 4, 6, 2, 4]\n",
    "Job Satisfaction (on a scale of 1 to 10): [7, 8, 6, 9, 5, 7, 6]\n",
    "- Perform a linear regression analysis to predict job satisfaction based on employee tenure."
   ]
  },
  {
   "cell_type": "code",
   "execution_count": 8,
   "id": "7542a565",
   "metadata": {},
   "outputs": [
    {
     "name": "stdout",
     "output_type": "stream",
     "text": [
      "Slope: -0.4680851063829787\n",
      "Intercept: 8.595744680851062\n",
      "Predicted Job Satisfaction: [7.65957447 7.19148936 6.25531915 6.72340426 5.78723404 7.65957447\n",
      " 6.72340426]\n"
     ]
    }
   ],
   "source": [
    "import numpy as np\n",
    "from sklearn.linear_model import LinearRegression\n",
    "\n",
    "# Employee Tenure (in years)\n",
    "tenure = np.array([2, 3, 5, 4, 6, 2, 4]).reshape(-1, 1)\n",
    "\n",
    "# Job Satisfaction (on a scale of 1 to 10)\n",
    "satisfaction = np.array([7, 8, 6, 9, 5, 7, 6])\n",
    "\n",
    "# Create a linear regression model\n",
    "regression_model = LinearRegression()\n",
    "\n",
    "# Fit the model with the data\n",
    "regression_model.fit(tenure, satisfaction)\n",
    "\n",
    "# Predict job satisfaction based on employee tenure\n",
    "predicted_satisfaction = regression_model.predict(tenure)\n",
    "\n",
    "# Print the coefficients (slope and intercept)\n",
    "print(\"Slope:\", regression_model.coef_[0])\n",
    "print(\"Intercept:\", regression_model.intercept_)\n",
    "\n",
    "# Print the predicted job satisfaction values\n",
    "print(\"Predicted Job Satisfaction:\", predicted_satisfaction)"
   ]
  },
  {
   "cell_type": "markdown",
   "id": "73ea9fba",
   "metadata": {},
   "source": [
    "**Question: 9**\n",
    "- Scenario: A study is conducted to compare the effectiveness of two different medications.\n",
    "The recovery times of the patients in each group are as follows:\n",
    "Medication A: [10, 12, 14, 11, 13]\n",
    "Medication B: [15, 17, 16, 14, 18]\n",
    "- Perform an analysis of variance (ANOVA) to determine if there is a significant difference in the\n",
    "mean recovery times between the two medications."
   ]
  },
  {
   "cell_type": "code",
   "execution_count": 25,
   "id": "cbea36e6",
   "metadata": {},
   "outputs": [
    {
     "name": "stdout",
     "output_type": "stream",
     "text": [
      "F-Statistic: 16.0\n",
      "p-value: 0.003949772803445326\n",
      "Conclusion:  There is a significant difference in the mean recovery times between the two medications.\n"
     ]
    }
   ],
   "source": [
    "import scipy.stats as stats\n",
    "\n",
    "# Recovery times for Medication A and Medication B\n",
    "medication_a = [10, 12, 14, 11, 13]\n",
    "medication_b = [15, 17, 16, 14, 18]\n",
    "\n",
    "# Perform one-way ANOVA\n",
    "f_statistic, p_value = stats.f_oneway(medication_a, medication_b)\n",
    "\n",
    "# Print the F-statistic and p-value\n",
    "print(\"F-Statistic:\", f_statistic)\n",
    "print(\"p-value:\", p_value)\n",
    "\n",
    "# Checking whether there is significance difference or not:\n",
    "if p_value < 0.05:\n",
    "    print(\"Conclusion: \", \"There is a significant difference in the mean recovery times between the two medications.\")\n",
    "else:\n",
    "    print(\"Conclusion: \",\"There is no significant difference in the mean recovery times between the two medications.\")"
   ]
  },
  {
   "cell_type": "markdown",
   "id": "a4c20f73",
   "metadata": {},
   "source": [
    "**Question: 10**\n",
    "- Scenario: A company wants to analyze customer feedback ratings on a scale of 1 to 10. The\n",
    "data collected is\n",
    "as follows:\n",
    "[8, 9, 7, 6, 8, 10, 9, 8, 7, 8]\n",
    "- Calculate the 75th percentile of the feedback ratings."
   ]
  },
  {
   "cell_type": "code",
   "execution_count": 10,
   "id": "8b874a27",
   "metadata": {},
   "outputs": [
    {
     "name": "stdout",
     "output_type": "stream",
     "text": [
      "75th Percentile: 8.75\n"
     ]
    }
   ],
   "source": [
    "import numpy as np\n",
    "\n",
    "# Feedback ratings\n",
    "ratings = np.array([8, 9, 7, 6, 8, 10, 9, 8, 7, 8])\n",
    "\n",
    "# Calculate the 75th percentile\n",
    "percentile_75 = np.percentile(ratings, 75)\n",
    "\n",
    "# Print the 75th percentile\n",
    "print(\"75th Percentile:\", percentile_75)"
   ]
  },
  {
   "cell_type": "markdown",
   "id": "21c03093",
   "metadata": {},
   "source": [
    "**Question: 11**\n",
    "- Scenario: A quality control department wants to test the weight consistency of a product.\n",
    "The weights of a sample of products are as follows:\n",
    "[10.2, 9.8, 10.0, 10.5, 10.3, 10.1]\n",
    "- Perform a hypothesis test to determine if the mean weight differs significantly from 10 grams."
   ]
  },
  {
   "cell_type": "code",
   "execution_count": 26,
   "id": "8c7fd2f8",
   "metadata": {},
   "outputs": [
    {
     "name": "stdout",
     "output_type": "stream",
     "text": [
      "T-Statistic: 1.5126584522688367\n",
      "p-value: 0.19077595151110102\n",
      "Conclusion:  The mean weight doecs not differ significantly from 10 grams.\n"
     ]
    }
   ],
   "source": [
    "import scipy.stats as stats\n",
    "\n",
    "# Weights of the sample products\n",
    "weights = [10.2, 9.8, 10.0, 10.5, 10.3, 10.1]\n",
    "\n",
    "# Define the null hypothesis: mean weight = 10 grams\n",
    "null_hypothesis_mean = 10\n",
    "\n",
    "# Perform one-sample t-test\n",
    "t_statistic, p_value = stats.ttest_1samp(weights, null_hypothesis_mean)\n",
    "\n",
    "# Print the t-statistic and p-value\n",
    "print(\"T-Statistic:\", t_statistic)\n",
    "print(\"p-value:\", p_value)\n",
    "\n",
    "# Checking whether there is significance difference or not:\n",
    "if p_value < 0.05:\n",
    "    print(\"Conclusion: \", \"The mean weight differs significantly from 10 grams.\")\n",
    "else:\n",
    "    print(\"Conclusion: \",\"The mean weight doecs not differ significantly from 10 grams.\")"
   ]
  },
  {
   "cell_type": "markdown",
   "id": "20ebd8c3",
   "metadata": {},
   "source": [
    "**Question: 12**\n",
    "- Scenario: A company wants to analyze the click-through rates of two different website\n",
    "designs. The number of clicks for each design is as follows:\n",
    "Design A: [100, 120, 110, 90, 95]\n",
    "Design B: [80, 85, 90, 95, 100]\n",
    "- Perform a chi-square test to determine if there is a significant difference in the click-through\n",
    "rates between the two designs."
   ]
  },
  {
   "cell_type": "code",
   "execution_count": 30,
   "id": "079a4b44",
   "metadata": {},
   "outputs": [
    {
     "name": "stdout",
     "output_type": "stream",
     "text": [
      "Chi-square Statistic: [2.22222222 5.97560976 2.         0.13513514 0.12820513]\n",
      "p-value: [0.13603713 0.01450507 0.15729921 0.71316606 0.72030033]\n",
      "Conclusion:  There is no significant difference in the click-through rates between the two designs.\n",
      "Conclusion:  There is a significant difference in the click-through rates between the two designs.\n",
      "Conclusion:  There is no significant difference in the click-through rates between the two designs.\n",
      "Conclusion:  There is no significant difference in the click-through rates between the two designs.\n",
      "Conclusion:  There is no significant difference in the click-through rates between the two designs.\n"
     ]
    }
   ],
   "source": [
    "import numpy as np\n",
    "import scipy.stats as stats\n",
    "\n",
    "# Click-through rates for Design A and Design B\n",
    "design_a = [100, 120, 110, 90, 95]\n",
    "design_b = [80, 85, 90, 95, 100]\n",
    "\n",
    "# Create an observed frequency table\n",
    "observed_table = np.array([design_a, design_b])\n",
    "\n",
    "# Perform chi-square test\n",
    "chi2_statistic, p_value = stats.chisquare(observed_table)\n",
    "\n",
    "# chi-square statistic and p-value\n",
    "print(\"Chi-square Statistic:\", chi2_statistic)\n",
    "print(\"p-value:\", p_value)\n",
    "\n",
    "# Checking whether there is significance difference or not:\n",
    "for i in p_value:\n",
    "    if i < 0.05:\n",
    "        print(\"Conclusion: \", \"There is a significant difference in the click-through rates between the two designs.\")\n",
    "    else:\n",
    "        print(\"Conclusion: \", \"There is no significant difference in the click-through rates between the two designs.\")"
   ]
  },
  {
   "cell_type": "markdown",
   "id": "9df3bd78",
   "metadata": {},
   "source": [
    "**Question: 13**\n",
    "- Scenario: A survey is conducted to measure customer satisfaction with a product on a scale\n",
    "of 1 to 10. The data collected is as follows:\n",
    "[7, 9, 6, 8, 10, 7, 8, 9, 7, 8]\n",
    "- Calculate the 95% confidence interval for the population mean satisfaction score."
   ]
  },
  {
   "cell_type": "code",
   "execution_count": 13,
   "id": "820c85c2",
   "metadata": {},
   "outputs": [
    {
     "name": "stdout",
     "output_type": "stream",
     "text": [
      "95% Confidence Interval: (7.043561120599888, 8.756438879400113)\n"
     ]
    }
   ],
   "source": [
    "import numpy as np\n",
    "import scipy.stats as stats\n",
    "\n",
    "# Customer satisfaction scores\n",
    "scores = np.array([7, 9, 6, 8, 10, 7, 8, 9, 7, 8])\n",
    "\n",
    "# Calculate the sample mean and standard deviation\n",
    "sample_mean = np.mean(scores)\n",
    "sample_std = np.std(scores, ddof=1)\n",
    "\n",
    "# Set the confidence level (95%)\n",
    "confidence_level = 0.95\n",
    "\n",
    "# Calculate the critical value (two-tailed test)\n",
    "critical_value = stats.t.ppf((1 + confidence_level) / 2, df=len(scores) - 1)\n",
    "\n",
    "# Calculate the margin of error\n",
    "margin_of_error = critical_value * (sample_std / np.sqrt(len(scores)))\n",
    "\n",
    "# Calculate the confidence interval\n",
    "confidence_interval = (sample_mean - margin_of_error, sample_mean + margin_of_error)\n",
    "\n",
    "# The confidence interval\n",
    "print(\"95% Confidence Interval:\", confidence_interval)\n"
   ]
  },
  {
   "cell_type": "markdown",
   "id": "298af1ff",
   "metadata": {},
   "source": [
    "**Question: 14**\n",
    "- Scenario: A company wants to analyze the effect of temperature on product performance.\n",
    "The data collected is as follows:\n",
    "Temperature (in degrees Celsius): [20, 22, 23, 19, 21]\n",
    "Performance (on a scale of 1 to 10): [8, 7, 9, 6, 8]\n",
    "- Perform a simple linear regression to predict performance based on temperature."
   ]
  },
  {
   "cell_type": "code",
   "execution_count": 14,
   "id": "335ae5b8",
   "metadata": {},
   "outputs": [
    {
     "name": "stdout",
     "output_type": "stream",
     "text": [
      "Slope: 0.4999999999999999\n",
      "Intercept: -2.8999999999999986\n"
     ]
    }
   ],
   "source": [
    "import numpy as np\n",
    "from sklearn.linear_model import LinearRegression\n",
    "\n",
    "# Temperature (in degrees Celsius)\n",
    "temperature = np.array([20, 22, 23, 19, 21]).reshape(-1, 1)\n",
    "\n",
    "# Performance (on a scale of 1 to 10)\n",
    "performance = np.array([8, 7, 9, 6, 8])\n",
    "\n",
    "# Create a linear regression model\n",
    "regression_model = LinearRegression()\n",
    "\n",
    "# Fit the model with the data\n",
    "regression_model.fit(temperature, performance)\n",
    "\n",
    "# Get the slope and intercept of the regression line\n",
    "slope = regression_model.coef_[0]\n",
    "intercept = regression_model.intercept_\n",
    "\n",
    "# Slope and intercept\n",
    "print(\"Slope:\", slope)\n",
    "print(\"Intercept:\", intercept)\n"
   ]
  },
  {
   "cell_type": "code",
   "execution_count": 15,
   "id": "48560297",
   "metadata": {},
   "outputs": [
    {
     "name": "stdout",
     "output_type": "stream",
     "text": [
      "Predicted Performance: [9.1]\n"
     ]
    }
   ],
   "source": [
    "# Predict performance for a given temperature\n",
    "new_temperature = np.array([[24]])  # New temperature value to predict performance\n",
    "predicted_performance = regression_model.predict(new_temperature)\n",
    "\n",
    "# The predicted performance\n",
    "print(\"Predicted Performance:\", predicted_performance)"
   ]
  },
  {
   "cell_type": "markdown",
   "id": "cbd2314c",
   "metadata": {},
   "source": [
    "**Question: 15**\n",
    "- Scenario: A study is conducted to compare the preferences of two groups of participants.\n",
    "The preferences are measured on a Likert scale from 1 to 5. The data collected is as follows:\n",
    "Group A: [4, 3, 5, 2, 4]\n",
    "Group B: [3, 2, 4, 3, 3]\n",
    "- Perform a Mann-Whitney U test to determine if there is a significant difference in the median\n",
    "preferences between the two groups."
   ]
  },
  {
   "cell_type": "code",
   "execution_count": 31,
   "id": "731259e1",
   "metadata": {},
   "outputs": [
    {
     "name": "stdout",
     "output_type": "stream",
     "text": [
      "Mann-Whitney U Statistic: 17.0\n",
      "p-value: 0.380836480306712\n",
      "Conclusion:  There is no significant difference in the median preferences between the two groups.\n"
     ]
    }
   ],
   "source": [
    "import scipy.stats as stats\n",
    "\n",
    "# Preferences for Group A and Group B\n",
    "group_a = [4, 3, 5, 2, 4]\n",
    "group_b = [3, 2, 4, 3, 3]\n",
    "\n",
    "# Perform Mann-Whitney U test\n",
    "u_statistic, p_value = stats.mannwhitneyu(group_a, group_b)\n",
    "\n",
    "# The U statistic and p-value\n",
    "print(\"Mann-Whitney U Statistic:\", u_statistic)\n",
    "print(\"p-value:\", p_value)\n",
    "\n",
    "# Checking whether there is significance difference or not:\n",
    "if p_value < 0.05:\n",
    "    print(\"Conclusion: \", \"There is a significant difference in the median preferences between the two groups.\")\n",
    "else:\n",
    "    print(\"Conclusion: \",\"There is no significant difference in the median preferences between the two groups.\")"
   ]
  },
  {
   "cell_type": "markdown",
   "id": "b9df2c06",
   "metadata": {},
   "source": [
    "**Question: 16**\n",
    "- Scenario: A company wants to analyze the distribution of customer ages. The data collected\n",
    "is as follows:\n",
    "[25, 30, 35, 40, 45, 50, 55, 60, 65, 70]\n",
    "- Calculate the interquartile range (IQR) of the ages."
   ]
  },
  {
   "cell_type": "code",
   "execution_count": 17,
   "id": "cff5175d",
   "metadata": {},
   "outputs": [
    {
     "name": "stdout",
     "output_type": "stream",
     "text": [
      "Interquartile Range (IQR): 22.5\n"
     ]
    }
   ],
   "source": [
    "import numpy as np\n",
    "\n",
    "# Ages data\n",
    "ages = np.array([25, 30, 35, 40, 45, 50, 55, 60, 65, 70])\n",
    "\n",
    "# Calculate the first quartile (Q1)\n",
    "q1 = np.percentile(ages, 25)\n",
    "\n",
    "# Calculate the third quartile (Q3)\n",
    "q3 = np.percentile(ages, 75)\n",
    "\n",
    "# Calculate the interquartile range (IQR)\n",
    "iqr = q3 - q1\n",
    "\n",
    "# Interquartile range (IQR)\n",
    "print(\"Interquartile Range (IQR):\", iqr)"
   ]
  },
  {
   "cell_type": "markdown",
   "id": "8d8422e0",
   "metadata": {},
   "source": [
    "**Question: 17**\n",
    "- Scenario: A study is conducted to compare the performance of three different machine\n",
    "learning algorithms. The accuracy scores for each algorithm are as follows:\n",
    "Algorithm A: [0.85, 0.80, 0.82, 0.87, 0.83]\n",
    "Algorithm B: [0.78, 0.82, 0.84, 0.80, 0.79]\n",
    "Algorithm C: [0.90, 0.88, 0.89, 0.86, 0.87]\n",
    "- Perform a Kruskal-Wallis test to determine if there is a significant difference in the median\n",
    "accuracy scores between the algorithms."
   ]
  },
  {
   "cell_type": "code",
   "execution_count": 18,
   "id": "36463a92",
   "metadata": {},
   "outputs": [
    {
     "name": "stdout",
     "output_type": "stream",
     "text": [
      "Kruskal-Wallis H Statistic: 9.696947935368053\n",
      "p-value: 0.007840333026249539\n"
     ]
    }
   ],
   "source": [
    "import scipy.stats as stats\n",
    "\n",
    "# Accuracy scores for each algorithm\n",
    "algorithm_a = [0.85, 0.80, 0.82, 0.87, 0.83]\n",
    "algorithm_b = [0.78, 0.82, 0.84, 0.80, 0.79]\n",
    "algorithm_c = [0.90, 0.88, 0.89, 0.86, 0.87]\n",
    "\n",
    "# Perform Kruskal-Wallis test\n",
    "h_statistic, p_value = stats.kruskal(algorithm_a, algorithm_b, algorithm_c)\n",
    "\n",
    "# Print the H statistic and p-value\n",
    "print(\"Kruskal-Wallis H Statistic:\", h_statistic)\n",
    "print(\"p-value:\", p_value)"
   ]
  },
  {
   "cell_type": "markdown",
   "id": "ffec30e8",
   "metadata": {},
   "source": [
    "**Question: 18**\n",
    "- Scenario: A company wants to analyze the effect of price on sales. The data collected is as\n",
    "follows:\n",
    "Price (in dollars): [10, 15, 12, 8, 14]\n",
    "Sales: [100, 80, 90, 110, 95]\n",
    "- Perform a simple linear regression to predict\n",
    "sales based on price."
   ]
  },
  {
   "cell_type": "code",
   "execution_count": 19,
   "id": "c4425637",
   "metadata": {},
   "outputs": [
    {
     "name": "stdout",
     "output_type": "stream",
     "text": [
      "Slope: -3.506097560975611\n",
      "Intercept: 136.3719512195122\n"
     ]
    }
   ],
   "source": [
    "import numpy as np\n",
    "from sklearn.linear_model import LinearRegression\n",
    "\n",
    "# Price (in dollars)\n",
    "price = np.array([10, 15, 12, 8, 14]).reshape(-1, 1)\n",
    "\n",
    "# Sales\n",
    "sales = np.array([100, 80, 90, 110, 95])\n",
    "\n",
    "# Create a linear regression model\n",
    "regression_model = LinearRegression()\n",
    "\n",
    "# Fit the model with the data\n",
    "regression_model.fit(price, sales)\n",
    "\n",
    "# Get the slope and intercept of the regression line\n",
    "slope = regression_model.coef_[0]\n",
    "intercept = regression_model.intercept_\n",
    "\n",
    "# Slope and intercept\n",
    "print(\"Slope:\", slope)\n",
    "print(\"Intercept:\", intercept)"
   ]
  },
  {
   "cell_type": "code",
   "execution_count": 20,
   "id": "c0fcf9a3",
   "metadata": {},
   "outputs": [
    {
     "name": "stdout",
     "output_type": "stream",
     "text": [
      "Predicted Sales: [97.80487805]\n"
     ]
    }
   ],
   "source": [
    "# Predict sales for a given price\n",
    "new_price = np.array([[11]])  # New price value to predict sales\n",
    "predicted_sales = regression_model.predict(new_price)\n",
    "\n",
    "# Print the predicted sales\n",
    "print(\"Predicted Sales:\", predicted_sales)"
   ]
  },
  {
   "cell_type": "markdown",
   "id": "a05a8b22",
   "metadata": {},
   "source": [
    "**Question: 19**\n",
    "- Scenario: A survey is conducted to measure the satisfaction levels of customers with a new\n",
    "product. The data collected is as follows:\n",
    "[7, 8, 9, 6, 8, 7, 9, 7, 8, 7]\n",
    "- Calculate the standard error of the mean satisfaction score."
   ]
  },
  {
   "cell_type": "code",
   "execution_count": 21,
   "id": "9089be76",
   "metadata": {},
   "outputs": [
    {
     "name": "stdout",
     "output_type": "stream",
     "text": [
      "Standard Error of the Mean: 0.30550504633038933\n"
     ]
    }
   ],
   "source": [
    "import numpy as np\n",
    "\n",
    "# Satisfaction scores data\n",
    "scores = np.array([7, 8, 9, 6, 8, 7, 9, 7, 8, 7])\n",
    "\n",
    "# Calculate the standard deviation\n",
    "std_deviation = np.std(scores, ddof=1)\n",
    "\n",
    "# Calculate the sample size\n",
    "sample_size = len(scores)\n",
    "\n",
    "# Calculate the standard error of the mean\n",
    "standard_error = std_deviation / np.sqrt(sample_size)\n",
    "\n",
    "# Standard error of the mean\n",
    "print(\"Standard Error of the Mean:\", standard_error)"
   ]
  },
  {
   "cell_type": "markdown",
   "id": "5db9f236",
   "metadata": {},
   "source": [
    "**Question: 20**\n",
    "- Scenario: A company wants to analyze the relationship between advertising expenditure\n",
    "and sales. The data collected is as follows:\n",
    "Advertising Expenditure (in thousands): [10, 15, 12, 8, 14]\n",
    "Sales (in thousands): [25, 30, 28, 20, 26]\n",
    "- Perform a multiple regression analysis to predict sales based on advertising expenditure."
   ]
  },
  {
   "cell_type": "code",
   "execution_count": 22,
   "id": "47ab70b6",
   "metadata": {},
   "outputs": [
    {
     "name": "stdout",
     "output_type": "stream",
     "text": [
      "Coefficient: 1.152439024390244\n",
      "Intercept: 12.20121951219512\n"
     ]
    }
   ],
   "source": [
    "import numpy as np\n",
    "from sklearn.linear_model import LinearRegression\n",
    "\n",
    "# Advertising Expenditure (in thousands)\n",
    "expenditure = np.array([10, 15, 12, 8, 14]).reshape(-1, 1)\n",
    "\n",
    "# Sales (in thousands)\n",
    "sales = np.array([25, 30, 28, 20, 26])\n",
    "\n",
    "# Create a linear regression model\n",
    "regression_model = LinearRegression()\n",
    "\n",
    "# Fit the model with the data\n",
    "regression_model.fit(expenditure, sales)\n",
    "\n",
    "# Get the coefficient (slope) and intercept of the regression line\n",
    "coefficient = regression_model.coef_[0]\n",
    "intercept = regression_model.intercept_\n",
    "\n",
    "# Coefficient and intercept\n",
    "print(\"Coefficient:\", coefficient)\n",
    "print(\"Intercept:\", intercept)\n"
   ]
  },
  {
   "cell_type": "code",
   "execution_count": 23,
   "id": "15704299",
   "metadata": {},
   "outputs": [
    {
     "name": "stdout",
     "output_type": "stream",
     "text": [
      "Predicted Sales: [27.18292683]\n"
     ]
    }
   ],
   "source": [
    "# Predict sales for a given advertising expenditure\n",
    "new_expenditure = np.array([[13]])  # New advertising expenditure value to predict sales\n",
    "predicted_sales = regression_model.predict(new_expenditure)\n",
    "\n",
    "# Print the predicted sales\n",
    "print(\"Predicted Sales:\", predicted_sales)"
   ]
  },
  {
   "cell_type": "code",
   "execution_count": null,
   "id": "ac3522ef",
   "metadata": {},
   "outputs": [],
   "source": []
  }
 ],
 "metadata": {
  "kernelspec": {
   "display_name": "Python 3 (ipykernel)",
   "language": "python",
   "name": "python3"
  },
  "language_info": {
   "codemirror_mode": {
    "name": "ipython",
    "version": 3
   },
   "file_extension": ".py",
   "mimetype": "text/x-python",
   "name": "python",
   "nbconvert_exporter": "python",
   "pygments_lexer": "ipython3",
   "version": "3.9.16"
  }
 },
 "nbformat": 4,
 "nbformat_minor": 5
}
